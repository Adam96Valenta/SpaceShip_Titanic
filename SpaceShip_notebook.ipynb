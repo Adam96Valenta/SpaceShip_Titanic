{
 "cells": [
  {
   "cell_type": "markdown",
   "id": "8391946b",
   "metadata": {},
   "source": [
    "## Introduction"
   ]
  },
  {
   "cell_type": "markdown",
   "id": "432f5163",
   "metadata": {},
   "source": [
    "The goal is to predict who passenger was transported to an alternate dimension when Spaceship Titanic collided with a spacetime anomaly hidden within a dust cloud and who not.\n",
    "\n",
    "The datasets are from [Kaggle.com](https://www.kaggle.com/competitions/spaceship-titanic/overview)\n",
    "\n",
    "### Workflow:\n",
    "* Loading and checking data\n",
    "* Exploratory data analysis (EDA)\n",
    "* Filling missing Values\n",
    "* Feature engineering\n",
    "* Preparing data for modeling\n",
    "* Training models\n",
    "\n"
   ]
  },
  {
   "cell_type": "markdown",
   "id": "ff203a98",
   "metadata": {},
   "source": [
    "## Import libraries"
   ]
  },
  {
   "cell_type": "code",
   "execution_count": 2,
   "id": "3ebdbcb1",
   "metadata": {},
   "outputs": [],
   "source": [
    "import pandas as pd\n",
    "import numpy as np\n",
    "import seaborn as sns\n",
    "import matplotlib.pyplot as plt\n",
    "\n",
    "from sklearn.linear_model import LogisticRegression\n",
    "from sklearn.svm import SVC, LinearSVC\n",
    "from sklearn.ensemble import RandomForestClassifier\n",
    "from sklearn.neighbors import KNeighborsClassifier\n",
    "from sklearn.naive_bayes import GaussianNB\n",
    "from sklearn.model_selection import GridSearchCV"
   ]
  },
  {
   "cell_type": "markdown",
   "id": "3d14ff39",
   "metadata": {},
   "source": [
    "## Load data"
   ]
  },
  {
   "cell_type": "code",
   "execution_count": 3,
   "id": "205a5afc",
   "metadata": {},
   "outputs": [],
   "source": [
    "df_train = pd.read_csv('data/train.csv')\n",
    "df_test = pd.read_csv('data/test.csv')\n",
    "submission = pd.read_csv('data/sample_submission.csv')"
   ]
  },
  {
   "cell_type": "code",
   "execution_count": 3,
   "id": "b2690261",
   "metadata": {
    "scrolled": true
   },
   "outputs": [
    {
     "data": {
      "text/html": [
       "<div>\n",
       "<style scoped>\n",
       "    .dataframe tbody tr th:only-of-type {\n",
       "        vertical-align: middle;\n",
       "    }\n",
       "\n",
       "    .dataframe tbody tr th {\n",
       "        vertical-align: top;\n",
       "    }\n",
       "\n",
       "    .dataframe thead th {\n",
       "        text-align: right;\n",
       "    }\n",
       "</style>\n",
       "<table border=\"1\" class=\"dataframe\">\n",
       "  <thead>\n",
       "    <tr style=\"text-align: right;\">\n",
       "      <th></th>\n",
       "      <th>PassengerId</th>\n",
       "      <th>HomePlanet</th>\n",
       "      <th>CryoSleep</th>\n",
       "      <th>Cabin</th>\n",
       "      <th>Destination</th>\n",
       "      <th>Age</th>\n",
       "      <th>VIP</th>\n",
       "      <th>RoomService</th>\n",
       "      <th>FoodCourt</th>\n",
       "      <th>ShoppingMall</th>\n",
       "      <th>Spa</th>\n",
       "      <th>VRDeck</th>\n",
       "      <th>Name</th>\n",
       "    </tr>\n",
       "  </thead>\n",
       "  <tbody>\n",
       "    <tr>\n",
       "      <th>0</th>\n",
       "      <td>0013_01</td>\n",
       "      <td>Earth</td>\n",
       "      <td>True</td>\n",
       "      <td>G/3/S</td>\n",
       "      <td>TRAPPIST-1e</td>\n",
       "      <td>27.0</td>\n",
       "      <td>False</td>\n",
       "      <td>0.0</td>\n",
       "      <td>0.0</td>\n",
       "      <td>0.0</td>\n",
       "      <td>0.0</td>\n",
       "      <td>0.0</td>\n",
       "      <td>Nelly Carsoning</td>\n",
       "    </tr>\n",
       "    <tr>\n",
       "      <th>1</th>\n",
       "      <td>0018_01</td>\n",
       "      <td>Earth</td>\n",
       "      <td>False</td>\n",
       "      <td>F/4/S</td>\n",
       "      <td>TRAPPIST-1e</td>\n",
       "      <td>19.0</td>\n",
       "      <td>False</td>\n",
       "      <td>0.0</td>\n",
       "      <td>9.0</td>\n",
       "      <td>0.0</td>\n",
       "      <td>2823.0</td>\n",
       "      <td>0.0</td>\n",
       "      <td>Lerome Peckers</td>\n",
       "    </tr>\n",
       "    <tr>\n",
       "      <th>2</th>\n",
       "      <td>0019_01</td>\n",
       "      <td>Europa</td>\n",
       "      <td>True</td>\n",
       "      <td>C/0/S</td>\n",
       "      <td>55 Cancri e</td>\n",
       "      <td>31.0</td>\n",
       "      <td>False</td>\n",
       "      <td>0.0</td>\n",
       "      <td>0.0</td>\n",
       "      <td>0.0</td>\n",
       "      <td>0.0</td>\n",
       "      <td>0.0</td>\n",
       "      <td>Sabih Unhearfus</td>\n",
       "    </tr>\n",
       "    <tr>\n",
       "      <th>3</th>\n",
       "      <td>0021_01</td>\n",
       "      <td>Europa</td>\n",
       "      <td>False</td>\n",
       "      <td>C/1/S</td>\n",
       "      <td>TRAPPIST-1e</td>\n",
       "      <td>38.0</td>\n",
       "      <td>False</td>\n",
       "      <td>0.0</td>\n",
       "      <td>6652.0</td>\n",
       "      <td>0.0</td>\n",
       "      <td>181.0</td>\n",
       "      <td>585.0</td>\n",
       "      <td>Meratz Caltilter</td>\n",
       "    </tr>\n",
       "    <tr>\n",
       "      <th>4</th>\n",
       "      <td>0023_01</td>\n",
       "      <td>Earth</td>\n",
       "      <td>False</td>\n",
       "      <td>F/5/S</td>\n",
       "      <td>TRAPPIST-1e</td>\n",
       "      <td>20.0</td>\n",
       "      <td>False</td>\n",
       "      <td>10.0</td>\n",
       "      <td>0.0</td>\n",
       "      <td>635.0</td>\n",
       "      <td>0.0</td>\n",
       "      <td>0.0</td>\n",
       "      <td>Brence Harperez</td>\n",
       "    </tr>\n",
       "    <tr>\n",
       "      <th>...</th>\n",
       "      <td>...</td>\n",
       "      <td>...</td>\n",
       "      <td>...</td>\n",
       "      <td>...</td>\n",
       "      <td>...</td>\n",
       "      <td>...</td>\n",
       "      <td>...</td>\n",
       "      <td>...</td>\n",
       "      <td>...</td>\n",
       "      <td>...</td>\n",
       "      <td>...</td>\n",
       "      <td>...</td>\n",
       "      <td>...</td>\n",
       "    </tr>\n",
       "    <tr>\n",
       "      <th>4272</th>\n",
       "      <td>9266_02</td>\n",
       "      <td>Earth</td>\n",
       "      <td>True</td>\n",
       "      <td>G/1496/S</td>\n",
       "      <td>TRAPPIST-1e</td>\n",
       "      <td>34.0</td>\n",
       "      <td>False</td>\n",
       "      <td>0.0</td>\n",
       "      <td>0.0</td>\n",
       "      <td>0.0</td>\n",
       "      <td>0.0</td>\n",
       "      <td>0.0</td>\n",
       "      <td>Jeron Peter</td>\n",
       "    </tr>\n",
       "    <tr>\n",
       "      <th>4273</th>\n",
       "      <td>9269_01</td>\n",
       "      <td>Earth</td>\n",
       "      <td>False</td>\n",
       "      <td>NaN</td>\n",
       "      <td>TRAPPIST-1e</td>\n",
       "      <td>42.0</td>\n",
       "      <td>False</td>\n",
       "      <td>0.0</td>\n",
       "      <td>847.0</td>\n",
       "      <td>17.0</td>\n",
       "      <td>10.0</td>\n",
       "      <td>144.0</td>\n",
       "      <td>Matty Scheron</td>\n",
       "    </tr>\n",
       "    <tr>\n",
       "      <th>4274</th>\n",
       "      <td>9271_01</td>\n",
       "      <td>Mars</td>\n",
       "      <td>True</td>\n",
       "      <td>D/296/P</td>\n",
       "      <td>55 Cancri e</td>\n",
       "      <td>NaN</td>\n",
       "      <td>False</td>\n",
       "      <td>0.0</td>\n",
       "      <td>0.0</td>\n",
       "      <td>0.0</td>\n",
       "      <td>0.0</td>\n",
       "      <td>0.0</td>\n",
       "      <td>Jayrin Pore</td>\n",
       "    </tr>\n",
       "    <tr>\n",
       "      <th>4275</th>\n",
       "      <td>9273_01</td>\n",
       "      <td>Europa</td>\n",
       "      <td>False</td>\n",
       "      <td>D/297/P</td>\n",
       "      <td>NaN</td>\n",
       "      <td>NaN</td>\n",
       "      <td>False</td>\n",
       "      <td>0.0</td>\n",
       "      <td>2680.0</td>\n",
       "      <td>0.0</td>\n",
       "      <td>0.0</td>\n",
       "      <td>523.0</td>\n",
       "      <td>Kitakan Conale</td>\n",
       "    </tr>\n",
       "    <tr>\n",
       "      <th>4276</th>\n",
       "      <td>9277_01</td>\n",
       "      <td>Earth</td>\n",
       "      <td>True</td>\n",
       "      <td>G/1498/S</td>\n",
       "      <td>PSO J318.5-22</td>\n",
       "      <td>43.0</td>\n",
       "      <td>False</td>\n",
       "      <td>0.0</td>\n",
       "      <td>0.0</td>\n",
       "      <td>0.0</td>\n",
       "      <td>0.0</td>\n",
       "      <td>0.0</td>\n",
       "      <td>Lilace Leonzaley</td>\n",
       "    </tr>\n",
       "  </tbody>\n",
       "</table>\n",
       "<p>4277 rows × 13 columns</p>\n",
       "</div>"
      ],
      "text/plain": [
       "     PassengerId HomePlanet CryoSleep     Cabin    Destination   Age    VIP  \\\n",
       "0        0013_01      Earth      True     G/3/S    TRAPPIST-1e  27.0  False   \n",
       "1        0018_01      Earth     False     F/4/S    TRAPPIST-1e  19.0  False   \n",
       "2        0019_01     Europa      True     C/0/S    55 Cancri e  31.0  False   \n",
       "3        0021_01     Europa     False     C/1/S    TRAPPIST-1e  38.0  False   \n",
       "4        0023_01      Earth     False     F/5/S    TRAPPIST-1e  20.0  False   \n",
       "...          ...        ...       ...       ...            ...   ...    ...   \n",
       "4272     9266_02      Earth      True  G/1496/S    TRAPPIST-1e  34.0  False   \n",
       "4273     9269_01      Earth     False       NaN    TRAPPIST-1e  42.0  False   \n",
       "4274     9271_01       Mars      True   D/296/P    55 Cancri e   NaN  False   \n",
       "4275     9273_01     Europa     False   D/297/P            NaN   NaN  False   \n",
       "4276     9277_01      Earth      True  G/1498/S  PSO J318.5-22  43.0  False   \n",
       "\n",
       "      RoomService  FoodCourt  ShoppingMall     Spa  VRDeck              Name  \n",
       "0             0.0        0.0           0.0     0.0     0.0   Nelly Carsoning  \n",
       "1             0.0        9.0           0.0  2823.0     0.0    Lerome Peckers  \n",
       "2             0.0        0.0           0.0     0.0     0.0   Sabih Unhearfus  \n",
       "3             0.0     6652.0           0.0   181.0   585.0  Meratz Caltilter  \n",
       "4            10.0        0.0         635.0     0.0     0.0   Brence Harperez  \n",
       "...           ...        ...           ...     ...     ...               ...  \n",
       "4272          0.0        0.0           0.0     0.0     0.0       Jeron Peter  \n",
       "4273          0.0      847.0          17.0    10.0   144.0     Matty Scheron  \n",
       "4274          0.0        0.0           0.0     0.0     0.0       Jayrin Pore  \n",
       "4275          0.0     2680.0           0.0     0.0   523.0    Kitakan Conale  \n",
       "4276          0.0        0.0           0.0     0.0     0.0  Lilace Leonzaley  \n",
       "\n",
       "[4277 rows x 13 columns]"
      ]
     },
     "execution_count": 3,
     "metadata": {},
     "output_type": "execute_result"
    }
   ],
   "source": [
    "combine = [df_train, df_test]\n",
    "combine[1]"
   ]
  },
  {
   "cell_type": "markdown",
   "id": "3fd53291",
   "metadata": {},
   "source": [
    "### Feature descriptions:\n",
    "`PassengerId` - A unique Id for each passenger. Each Id takes the form `gggg_pp` where `gggg` indicates a group the passenger is travelling with and `pp` is their number within the group. People in a group are often family members, but not always.\n",
    "\n",
    "`HomePlanet` - The planet the passenger departed from, typically their planet of permanent residence.\n",
    "\n",
    "`CryoSleep` - Indicates whether the passenger elected to be put into suspended animation for the duration of the voyage. Passengers in cryosleep are confined to their cabins.\n",
    "\n",
    "`Cabin` - The cabin number where the passenger is staying. Takes the form `deck/num/side`, where `side` can be either `P` for Port or `S` for Starboard.\n",
    "\n",
    "`Destination` - The planet the passenger will be debarking to.\n",
    "\n",
    "`Age` - The age of the passenger.\n",
    "\n",
    "`VIP` - Whether the passenger has paid for special VIP service during the voyage.\n",
    "\n",
    "`RoomService`, `FoodCourt`, `ShoppingMall`, `Spa`, `VRDeck` - Amount the passenger has billed at each of the Spaceship Titanic's many luxury amenities.\n",
    "\n",
    "`Name` - The first and last names of the passenger.\n",
    "\n",
    "`Transported` - Whether the passenger was transported to another dimension. This is the target, the column you are trying to predict."
   ]
  },
  {
   "cell_type": "code",
   "execution_count": 4,
   "id": "f34af734",
   "metadata": {},
   "outputs": [
    {
     "name": "stdout",
     "output_type": "stream",
     "text": [
      "train set: (8693, 14)\n",
      "test set: (4277, 13)\n"
     ]
    }
   ],
   "source": [
    "print(f'train set: {df_train.shape}')\n",
    "print(f'test set: {df_test.shape}')"
   ]
  },
  {
   "cell_type": "code",
   "execution_count": 5,
   "id": "0cd37dc6",
   "metadata": {},
   "outputs": [
    {
     "name": "stdout",
     "output_type": "stream",
     "text": [
      "<class 'pandas.core.frame.DataFrame'>\n",
      "RangeIndex: 8693 entries, 0 to 8692\n",
      "Data columns (total 14 columns):\n",
      " #   Column        Non-Null Count  Dtype  \n",
      "---  ------        --------------  -----  \n",
      " 0   PassengerId   8693 non-null   object \n",
      " 1   HomePlanet    8492 non-null   object \n",
      " 2   CryoSleep     8476 non-null   object \n",
      " 3   Cabin         8494 non-null   object \n",
      " 4   Destination   8511 non-null   object \n",
      " 5   Age           8514 non-null   float64\n",
      " 6   VIP           8490 non-null   object \n",
      " 7   RoomService   8512 non-null   float64\n",
      " 8   FoodCourt     8510 non-null   float64\n",
      " 9   ShoppingMall  8485 non-null   float64\n",
      " 10  Spa           8510 non-null   float64\n",
      " 11  VRDeck        8505 non-null   float64\n",
      " 12  Name          8493 non-null   object \n",
      " 13  Transported   8693 non-null   bool   \n",
      "dtypes: bool(1), float64(6), object(7)\n",
      "memory usage: 891.5+ KB\n",
      "----------------\n",
      "<class 'pandas.core.frame.DataFrame'>\n",
      "RangeIndex: 4277 entries, 0 to 4276\n",
      "Data columns (total 13 columns):\n",
      " #   Column        Non-Null Count  Dtype  \n",
      "---  ------        --------------  -----  \n",
      " 0   PassengerId   4277 non-null   object \n",
      " 1   HomePlanet    4190 non-null   object \n",
      " 2   CryoSleep     4184 non-null   object \n",
      " 3   Cabin         4177 non-null   object \n",
      " 4   Destination   4185 non-null   object \n",
      " 5   Age           4186 non-null   float64\n",
      " 6   VIP           4184 non-null   object \n",
      " 7   RoomService   4195 non-null   float64\n",
      " 8   FoodCourt     4171 non-null   float64\n",
      " 9   ShoppingMall  4179 non-null   float64\n",
      " 10  Spa           4176 non-null   float64\n",
      " 11  VRDeck        4197 non-null   float64\n",
      " 12  Name          4183 non-null   object \n",
      "dtypes: float64(6), object(7)\n",
      "memory usage: 434.5+ KB\n"
     ]
    }
   ],
   "source": [
    "df_train.info()\n",
    "print('----------------')\n",
    "df_test.info()"
   ]
  },
  {
   "cell_type": "code",
   "execution_count": 6,
   "id": "ce803416",
   "metadata": {},
   "outputs": [
    {
     "name": "stdout",
     "output_type": "stream",
     "text": [
      "Missing values [count]: \n",
      "PassengerId       0\n",
      "HomePlanet      201\n",
      "CryoSleep       217\n",
      "Cabin           199\n",
      "Destination     182\n",
      "Age             179\n",
      "VIP             203\n",
      "RoomService     181\n",
      "FoodCourt       183\n",
      "ShoppingMall    208\n",
      "Spa             183\n",
      "VRDeck          188\n",
      "Name            200\n",
      "Transported       0\n",
      "dtype: int64\n",
      "------------------------\n",
      "Missing values [percentage]: \n",
      "PassengerId     0.000000\n",
      "HomePlanet      2.312205\n",
      "CryoSleep       2.496261\n",
      "Cabin           2.289198\n",
      "Destination     2.093639\n",
      "Age             2.059128\n",
      "VIP             2.335212\n",
      "RoomService     2.082135\n",
      "FoodCourt       2.105142\n",
      "ShoppingMall    2.392730\n",
      "Spa             2.105142\n",
      "VRDeck          2.162660\n",
      "Name            2.300702\n",
      "Transported     0.000000\n",
      "dtype: float64\n"
     ]
    }
   ],
   "source": [
    "print(f'Missing values [count]: \\n{df_train.isna().sum()}')\n",
    "print('------------------------')\n",
    "print(f'Missing values [percentage]: \\n{df_train.isnull().sum() * 100 / len(df_train)}')"
   ]
  },
  {
   "cell_type": "code",
   "execution_count": 7,
   "id": "d37086c3",
   "metadata": {},
   "outputs": [
    {
     "name": "stdout",
     "output_type": "stream",
     "text": [
      "Missing values [count]: \n",
      "PassengerId       0\n",
      "HomePlanet       87\n",
      "CryoSleep        93\n",
      "Cabin           100\n",
      "Destination      92\n",
      "Age              91\n",
      "VIP              93\n",
      "RoomService      82\n",
      "FoodCourt       106\n",
      "ShoppingMall     98\n",
      "Spa             101\n",
      "VRDeck           80\n",
      "Name             94\n",
      "dtype: int64\n",
      "------------------------\n",
      "Missing values [percentage]: \n",
      "PassengerId     0.000000\n",
      "HomePlanet      2.034136\n",
      "CryoSleep       2.174421\n",
      "Cabin           2.338087\n",
      "Destination     2.151040\n",
      "Age             2.127660\n",
      "VIP             2.174421\n",
      "RoomService     1.917232\n",
      "FoodCourt       2.478373\n",
      "ShoppingMall    2.291326\n",
      "Spa             2.361468\n",
      "VRDeck          1.870470\n",
      "Name            2.197802\n",
      "dtype: float64\n"
     ]
    }
   ],
   "source": [
    "print(f'Missing values [count]: \\n{df_test.isna().sum()}')\n",
    "print('------------------------')\n",
    "print(f'Missing values [percentage]: \\n{df_test.isnull().sum() * 100 / len(df_test)}')"
   ]
  },
  {
   "cell_type": "markdown",
   "id": "3c47a473",
   "metadata": {},
   "source": [
    "## Feature engineering"
   ]
  },
  {
   "cell_type": "markdown",
   "id": "6a2bb8c2",
   "metadata": {},
   "source": [
    "#### CabinDeck and CabinSide\n",
    "`Cabin` takes the form `deck/num/side`. `Deck` and `side` are categorical variables. Num is numerical variable. I will use `deck` and `side` for creating new features, `CabinDeck` and `CabinSide`."
   ]
  },
  {
   "cell_type": "code",
   "execution_count": 8,
   "id": "b4219cc5",
   "metadata": {},
   "outputs": [],
   "source": [
    "for df in combine:\n",
    "    df['CabinDeck'] = df['Cabin'].str.split('/').str[0]\n",
    "    df['CabinSide'] = df['Cabin'].str.split('/').str[-1]"
   ]
  },
  {
   "cell_type": "markdown",
   "id": "d5ab3fd9",
   "metadata": {},
   "source": [
    "#### IsAlone\n",
    "`PassengerId` takes the form `gggg_pp`, where `gggg` indicates a group the passenger is travelling with and `pp` is their number within the group. From this feature i can find out who is travelling alone."
   ]
  },
  {
   "cell_type": "code",
   "execution_count": 9,
   "id": "5e03732e",
   "metadata": {},
   "outputs": [],
   "source": [
    "for df in combine:\n",
    "    df['PassengerGroup'] = df['PassengerId'].str.split('_').str[0]\n",
    "    df['GroupId'] = df['PassengerId'].str.split('_').str[-1]"
   ]
  },
  {
   "cell_type": "code",
   "execution_count": 10,
   "id": "83b4405b",
   "metadata": {},
   "outputs": [],
   "source": [
    "alone_list = []\n",
    "for df in combine:\n",
    "    for i in df['PassengerGroup']:\n",
    "        count = 0\n",
    "        for j in df['PassengerGroup']:\n",
    "            if i == j:\n",
    "                count +=1\n",
    "        if count == 1:\n",
    "            alone_list.append(i)"
   ]
  },
  {
   "cell_type": "code",
   "execution_count": 11,
   "id": "f366c15d",
   "metadata": {},
   "outputs": [],
   "source": [
    "for df in combine:\n",
    "    df['IsAlone'] = df['PassengerGroup'].apply(lambda x: True if x in alone_list else False)"
   ]
  },
  {
   "cell_type": "markdown",
   "id": "c9520df0",
   "metadata": {},
   "source": [
    "Drop support features."
   ]
  },
  {
   "cell_type": "code",
   "execution_count": 12,
   "id": "a4e8462e",
   "metadata": {},
   "outputs": [],
   "source": [
    "for df in combine:\n",
    "    df.drop(columns=['PassengerId', 'Cabin', 'PassengerGroup', 'GroupId'], axis=1, inplace=True)"
   ]
  },
  {
   "cell_type": "code",
   "execution_count": 13,
   "id": "bbe58699",
   "metadata": {},
   "outputs": [
    {
     "name": "stdout",
     "output_type": "stream",
     "text": [
      "Unique values in HomePlanet: 3\n",
      "['Earth', 'Europa', 'Mars']\n",
      "Unique values in CryoSleep: 2\n",
      "[False, True]\n",
      "Unique values in Destination: 3\n",
      "['55 Cancri e', 'PSO J318.5-22', 'TRAPPIST-1e']\n",
      "Unique values in Age: 80\n",
      "[0.0, 1.0, 2.0, 3.0, 4.0, 5.0, 6.0, 7.0, 8.0, 9.0, 10.0, 11.0, 12.0, 13.0, 14.0, 15.0, 16.0, 17.0, 18.0, 19.0, 20.0, 21.0, 22.0, 23.0, 24.0, 25.0, 26.0, 27.0, 28.0, 29.0, 30.0, 31.0, 32.0, 33.0, 34.0, 35.0, 36.0, 37.0, 38.0, 39.0, 40.0, 41.0, 42.0, 43.0, 44.0, 45.0, 46.0, 47.0, 48.0, 49.0, 50.0, 51.0, 52.0, 53.0, 54.0, 55.0, 56.0, 57.0, 58.0, 59.0, 60.0, 61.0, 62.0, 63.0, 64.0, 65.0, 66.0, 67.0, 68.0, 69.0, 70.0, 71.0, 72.0, 73.0, 74.0, 75.0, 76.0, 77.0, 78.0, 79.0]\n",
      "Unique values in VIP: 2\n",
      "[False, True]\n",
      "Unique values in RoomService: 1273\n",
      "Unique values in FoodCourt: 1507\n",
      "Unique values in ShoppingMall: 1115\n",
      "Unique values in Spa: 1327\n",
      "Unique values in VRDeck: 1306\n",
      "Unique values in Name: 8473\n",
      "Unique values in Transported: 2\n",
      "[False, True]\n",
      "Unique values in CabinDeck: 8\n",
      "['A', 'B', 'C', 'D', 'E', 'F', 'G', 'T']\n",
      "Unique values in CabinSide: 2\n",
      "['P', 'S']\n",
      "Unique values in IsAlone: 2\n",
      "[False, True]\n"
     ]
    }
   ],
   "source": [
    "for col in list(df_train.columns):\n",
    "    print(f'Unique values in {col}: {len(list(df_train[col].dropna().unique()))}')\n",
    "    if len(list(df_train[col].dropna().unique())) < 100:\n",
    "        print(f'{sorted(list(df_train[col].dropna().unique()))}')"
   ]
  },
  {
   "cell_type": "markdown",
   "id": "f40534a5",
   "metadata": {},
   "source": [
    "## EDA"
   ]
  },
  {
   "cell_type": "code",
   "execution_count": 14,
   "id": "da6e65ce",
   "metadata": {
    "scrolled": true
   },
   "outputs": [
    {
     "data": {
      "text/plain": [
       "<AxesSubplot:xlabel='Transported', ylabel='count'>"
      ]
     },
     "execution_count": 14,
     "metadata": {},
     "output_type": "execute_result"
    },
    {
     "data": {
      "image/png": "[encoded data removed]",
      "text/plain": [
       "<Figure size 432x288 with 1 Axes>"
      ]
     },
     "metadata": {
      "needs_background": "light"
     },
     "output_type": "display_data"
    }
   ],
   "source": [
    "sns.countplot(x='Transported', data= df_train)"
   ]
  },
  {
   "cell_type": "markdown",
   "id": "6abb3b1a",
   "metadata": {},
   "source": [
    "`Transported` is highly balanced."
   ]
  },
  {
   "cell_type": "code",
   "execution_count": 15,
   "id": "5b233d05",
   "metadata": {
    "scrolled": false
   },
   "outputs": [
    {
     "data": {
      "image/png": "[encoded data removed]",
      "text/plain": [
       "<Figure size 432x288 with 1 Axes>"
      ]
     },
     "metadata": {
      "needs_background": "light"
     },
     "output_type": "display_data"
    },
    {
     "data": {
      "image/png": "[encoded data removed]",
      "text/plain": [
       "<Figure size 432x288 with 1 Axes>"
      ]
     },
     "metadata": {
      "needs_background": "light"
     },
     "output_type": "display_data"
    },
    {
     "data": {
      "image/png": "[encoded data removed]",
      "text/plain": [
       "<Figure size 432x288 with 1 Axes>"
      ]
     },
     "metadata": {
      "needs_background": "light"
     },
     "output_type": "display_data"
    },
    {
     "data": {
      "image/png": "[encoded data removed]",
      "text/plain": [
       "<Figure size 432x288 with 1 Axes>"
      ]
     },
     "metadata": {
      "needs_background": "light"
     },
     "output_type": "display_data"
    },
    {
     "data": {
      "image/png": "[encoded data removed]",
      "text/plain": [
       "<Figure size 432x288 with 1 Axes>"
      ]
     },
     "metadata": {
      "needs_background": "light"
     },
     "output_type": "display_data"
    },
    {
     "data": {
      "image/png": "[encoded data removed]",
      "text/plain": [
       "<Figure size 432x288 with 1 Axes>"
      ]
     },
     "metadata": {
      "needs_background": "light"
     },
     "output_type": "display_data"
    },
    {
     "data": {
      "image/png": "[encoded data removed]",
      "text/plain": [
       "<Figure size 432x288 with 1 Axes>"
      ]
     },
     "metadata": {
      "needs_background": "light"
     },
     "output_type": "display_data"
    }
   ],
   "source": [
    "columns = ['HomePlanet', 'CryoSleep', 'Destination', 'VIP', 'CabinDeck', 'CabinSide', 'IsAlone']\n",
    "for col in columns:\n",
    "    sns.countplot(x= col, data = df_train, hue='Transported')\n",
    "    plt.xticks(rotation=45)\n",
    "    plt.show()"
   ]
  },
  {
   "cell_type": "markdown",
   "id": "5bdcbf3c",
   "metadata": {},
   "source": [
    "`CryoSleep` has highly impact on `Transported`.\n",
    "\n",
    "`VIP` has almost no impact on `Transported`.\n",
    "\n",
    "**Other features** have atleast some impact on `Transported`.\n"
   ]
  },
  {
   "cell_type": "code",
   "execution_count": 16,
   "id": "7999a58a",
   "metadata": {},
   "outputs": [
    {
     "data": {
      "text/html": [
       "<div>\n",
       "<style scoped>\n",
       "    .dataframe tbody tr th:only-of-type {\n",
       "        vertical-align: middle;\n",
       "    }\n",
       "\n",
       "    .dataframe tbody tr th {\n",
       "        vertical-align: top;\n",
       "    }\n",
       "\n",
       "    .dataframe thead th {\n",
       "        text-align: right;\n",
       "    }\n",
       "</style>\n",
       "<table border=\"1\" class=\"dataframe\">\n",
       "  <thead>\n",
       "    <tr style=\"text-align: right;\">\n",
       "      <th></th>\n",
       "      <th>Age</th>\n",
       "      <th>RoomService</th>\n",
       "      <th>FoodCourt</th>\n",
       "      <th>ShoppingMall</th>\n",
       "      <th>Spa</th>\n",
       "      <th>VRDeck</th>\n",
       "    </tr>\n",
       "  </thead>\n",
       "  <tbody>\n",
       "    <tr>\n",
       "      <th>count</th>\n",
       "      <td>8514.000000</td>\n",
       "      <td>8512.000000</td>\n",
       "      <td>8510.000000</td>\n",
       "      <td>8485.000000</td>\n",
       "      <td>8510.000000</td>\n",
       "      <td>8505.000000</td>\n",
       "    </tr>\n",
       "    <tr>\n",
       "      <th>mean</th>\n",
       "      <td>28.827930</td>\n",
       "      <td>224.687617</td>\n",
       "      <td>458.077203</td>\n",
       "      <td>173.729169</td>\n",
       "      <td>311.138778</td>\n",
       "      <td>304.854791</td>\n",
       "    </tr>\n",
       "    <tr>\n",
       "      <th>std</th>\n",
       "      <td>14.489021</td>\n",
       "      <td>666.717663</td>\n",
       "      <td>1611.489240</td>\n",
       "      <td>604.696458</td>\n",
       "      <td>1136.705535</td>\n",
       "      <td>1145.717189</td>\n",
       "    </tr>\n",
       "    <tr>\n",
       "      <th>min</th>\n",
       "      <td>0.000000</td>\n",
       "      <td>0.000000</td>\n",
       "      <td>0.000000</td>\n",
       "      <td>0.000000</td>\n",
       "      <td>0.000000</td>\n",
       "      <td>0.000000</td>\n",
       "    </tr>\n",
       "    <tr>\n",
       "      <th>25%</th>\n",
       "      <td>19.000000</td>\n",
       "      <td>0.000000</td>\n",
       "      <td>0.000000</td>\n",
       "      <td>0.000000</td>\n",
       "      <td>0.000000</td>\n",
       "      <td>0.000000</td>\n",
       "    </tr>\n",
       "    <tr>\n",
       "      <th>50%</th>\n",
       "      <td>27.000000</td>\n",
       "      <td>0.000000</td>\n",
       "      <td>0.000000</td>\n",
       "      <td>0.000000</td>\n",
       "      <td>0.000000</td>\n",
       "      <td>0.000000</td>\n",
       "    </tr>\n",
       "    <tr>\n",
       "      <th>75%</th>\n",
       "      <td>38.000000</td>\n",
       "      <td>47.000000</td>\n",
       "      <td>76.000000</td>\n",
       "      <td>27.000000</td>\n",
       "      <td>59.000000</td>\n",
       "      <td>46.000000</td>\n",
       "    </tr>\n",
       "    <tr>\n",
       "      <th>max</th>\n",
       "      <td>79.000000</td>\n",
       "      <td>14327.000000</td>\n",
       "      <td>29813.000000</td>\n",
       "      <td>23492.000000</td>\n",
       "      <td>22408.000000</td>\n",
       "      <td>24133.000000</td>\n",
       "    </tr>\n",
       "  </tbody>\n",
       "</table>\n",
       "</div>"
      ],
      "text/plain": [
       "               Age   RoomService     FoodCourt  ShoppingMall           Spa  \\\n",
       "count  8514.000000   8512.000000   8510.000000   8485.000000   8510.000000   \n",
       "mean     28.827930    224.687617    458.077203    173.729169    311.138778   \n",
       "std      14.489021    666.717663   1611.489240    604.696458   1136.705535   \n",
       "min       0.000000      0.000000      0.000000      0.000000      0.000000   \n",
       "25%      19.000000      0.000000      0.000000      0.000000      0.000000   \n",
       "50%      27.000000      0.000000      0.000000      0.000000      0.000000   \n",
       "75%      38.000000     47.000000     76.000000     27.000000     59.000000   \n",
       "max      79.000000  14327.000000  29813.000000  23492.000000  22408.000000   \n",
       "\n",
       "             VRDeck  \n",
       "count   8505.000000  \n",
       "mean     304.854791  \n",
       "std     1145.717189  \n",
       "min        0.000000  \n",
       "25%        0.000000  \n",
       "50%        0.000000  \n",
       "75%       46.000000  \n",
       "max    24133.000000  "
      ]
     },
     "execution_count": 16,
     "metadata": {},
     "output_type": "execute_result"
    }
   ],
   "source": [
    "df_train.describe()"
   ]
  },
  {
   "cell_type": "code",
   "execution_count": 17,
   "id": "2e15d0a4",
   "metadata": {},
   "outputs": [
    {
     "data": {
      "text/plain": [
       "<AxesSubplot:xlabel='Age', ylabel='Count'>"
      ]
     },
     "execution_count": 17,
     "metadata": {},
     "output_type": "execute_result"
    },
    {
     "data": {
      "image/png": "[encoded data removed]",
      "text/plain": [
       "<Figure size 432x288 with 1 Axes>"
      ]
     },
     "metadata": {
      "needs_background": "light"
     },
     "output_type": "display_data"
    }
   ],
   "source": [
    "sns.histplot(data=df_train, x='Age', bins=20, kde=True)"
   ]
  },
  {
   "cell_type": "code",
   "execution_count": 18,
   "id": "6dce8e10",
   "metadata": {},
   "outputs": [
    {
     "data": {
      "text/plain": [
       "<AxesSubplot:xlabel='Age', ylabel='Count'>"
      ]
     },
     "execution_count": 18,
     "metadata": {},
     "output_type": "execute_result"
    },
    {
     "data": {
      "image/png": "[encoded data removed]",
      "text/plain": [
       "<Figure size 720x288 with 1 Axes>"
      ]
     },
     "metadata": {
      "needs_background": "light"
     },
     "output_type": "display_data"
    }
   ],
   "source": [
    "plt.figure(figsize=(10,4))\n",
    "sns.histplot(df_train, x='Age', hue='Transported', bins=len(df_train.Age.unique()))"
   ]
  },
  {
   "cell_type": "markdown",
   "id": "a80e140c",
   "metadata": {},
   "source": [
    "**0 year olds** passengers were the most chance to be transported.\n",
    "\n",
    "**1-18 year olds** passengers were more chance to be transported than not.\n",
    "\n",
    "**19-40 year olds** passengers with a few exceptions were less chance to be transported than not.\n",
    "\n",
    "**40+ year olds** passengers were approximatle same chance to be transported or not."
   ]
  },
  {
   "cell_type": "code",
   "execution_count": 19,
   "id": "8bdc6685",
   "metadata": {},
   "outputs": [
    {
     "name": "stdout",
     "output_type": "stream",
     "text": [
      "90. percentil of RoomService = 792.2\n",
      "90. percentil of FoodCourt = 991.0\n",
      "90. percentil of ShoppingMall = 631.2\n",
      "90. percentil of Spa = 742.5\n",
      "90. percentil of VRDeck = 703.8\n"
     ]
    }
   ],
   "source": [
    "for col in ['RoomService', 'FoodCourt', 'ShoppingMall', 'Spa', 'VRDeck']:\n",
    "    q_90 = round(df[col].quantile(.90), 2)\n",
    "    print(f'90. percentil of {col} = {q_90}')"
   ]
  },
  {
   "cell_type": "markdown",
   "id": "354d108c",
   "metadata": {},
   "source": [
    "`RoomService`, `FoodCourt`, `ShoppingMall`, `Spa`, `VRDeck` have atless 50% values = 0 and 90% values < 1000 except for `FoodCourt` which has 90. percentil = 1026."
   ]
  },
  {
   "cell_type": "code",
   "execution_count": 20,
   "id": "830bed8c",
   "metadata": {},
   "outputs": [],
   "source": [
    "df = df_train.copy()\n",
    "columns = ['RoomService', 'FoodCourt', 'ShoppingMall', 'Spa', 'VRDeck']\n",
    "for col in columns:\n",
    "    col_name = col + 'Band'\n",
    "    df[col_name] = pd.cut(df[col], bins=[-1, 1, 100,  1000, df[col].max() +1], \n",
    "                             labels=['Zero','Low', 'Medium', 'High'])"
   ]
  },
  {
   "cell_type": "markdown",
   "id": "dde3ee56",
   "metadata": {},
   "source": [
    "Now i splitted values to 4 bands by these parameters:\n",
    "\n",
    "* **Zero** = 0\n",
    "* **Low** <= 100\n",
    "* **Medium** <= 1000\n",
    "* **High** > 1000"
   ]
  },
  {
   "cell_type": "code",
   "execution_count": 21,
   "id": "fe721ccc",
   "metadata": {
    "scrolled": false
   },
   "outputs": [
    {
     "data": {
      "image/png": "[encoded data removed]",
      "text/plain": [
       "<Figure size 432x288 with 1 Axes>"
      ]
     },
     "metadata": {
      "needs_background": "light"
     },
     "output_type": "display_data"
    },
    {
     "data": {
      "image/png": "[encoded data removed]",
      "text/plain": [
       "<Figure size 432x288 with 1 Axes>"
      ]
     },
     "metadata": {
      "needs_background": "light"
     },
     "output_type": "display_data"
    },
    {
     "data": {
      "image/png": "[encoded data removed]",
      "text/plain": [
       "<Figure size 432x288 with 1 Axes>"
      ]
     },
     "metadata": {
      "needs_background": "light"
     },
     "output_type": "display_data"
    },
    {
     "data": {
      "image/png": "[encoded data removed]",
      "text/plain": [
       "<Figure size 432x288 with 1 Axes>"
      ]
     },
     "metadata": {
      "needs_background": "light"
     },
     "output_type": "display_data"
    },
    {
     "data": {
      "image/png": "[encoded data removed]",
      "text/plain": [
       "<Figure size 432x288 with 1 Axes>"
      ]
     },
     "metadata": {
      "needs_background": "light"
     },
     "output_type": "display_data"
    }
   ],
   "source": [
    "for col in ['RoomServiceBand', 'FoodCourtBand', 'ShoppingMallBand', 'SpaBand', 'VRDeckBand']:\n",
    "    sns.countplot(data=df, y=col, hue='Transported')\n",
    "    plt.show()"
   ]
  },
  {
   "cell_type": "markdown",
   "id": "2f38e769",
   "metadata": {},
   "source": [
    "Passengers who no paid for luxury service were more chance to be transported then not.\n",
    "\n",
    "Passengers who paid for luxury service were less chance to be transported then not.\n",
    "\n",
    "This fact can be tricky, because passengers in cryo sleep didn't pay for luxury service and `CryoSleep` were highly impact on `Transported` too."
   ]
  },
  {
   "cell_type": "markdown",
   "id": "233796b0",
   "metadata": {},
   "source": [
    "## Missing values solving"
   ]
  },
  {
   "cell_type": "code",
   "execution_count": 22,
   "id": "e51e7616",
   "metadata": {},
   "outputs": [
    {
     "name": "stdout",
     "output_type": "stream",
     "text": [
      "Missing values [percentage]: \n",
      "HomePlanet      2.312205\n",
      "CryoSleep       2.496261\n",
      "Destination     2.093639\n",
      "Age             2.059128\n",
      "VIP             2.335212\n",
      "RoomService     2.082135\n",
      "FoodCourt       2.105142\n",
      "ShoppingMall    2.392730\n",
      "Spa             2.105142\n",
      "VRDeck          2.162660\n",
      "Name            2.300702\n",
      "Transported     0.000000\n",
      "CabinDeck       2.289198\n",
      "CabinSide       2.289198\n",
      "IsAlone         0.000000\n",
      "dtype: float64\n",
      "------------------------\n",
      "Missing values [percentage]: \n",
      "HomePlanet      2.034136\n",
      "CryoSleep       2.174421\n",
      "Destination     2.151040\n",
      "Age             2.127660\n",
      "VIP             2.174421\n",
      "RoomService     1.917232\n",
      "FoodCourt       2.478373\n",
      "ShoppingMall    2.291326\n",
      "Spa             2.361468\n",
      "VRDeck          1.870470\n",
      "Name            2.197802\n",
      "CabinDeck       2.338087\n",
      "CabinSide       2.338087\n",
      "IsAlone         0.000000\n",
      "dtype: float64\n"
     ]
    }
   ],
   "source": [
    "print(f'Missing values [percentage]: \\n{df_train.isnull().sum() * 100 / len(df_train)}')\n",
    "print('------------------------')\n",
    "print(f'Missing values [percentage]: \\n{df_test.isnull().sum() * 100 / len(df_test)}')"
   ]
  },
  {
   "cell_type": "markdown",
   "id": "bc44ab4f",
   "metadata": {},
   "source": [
    "Because each feature have low missing values by percentage i will replace missing values by **modus** for categorical variables and by **median** for numerical variables."
   ]
  },
  {
   "cell_type": "code",
   "execution_count": 23,
   "id": "5874f2ec",
   "metadata": {},
   "outputs": [],
   "source": [
    "for df in combine:\n",
    "    df['VIP'].fillna(df.VIP.mode()[0], inplace=True)\n",
    "    df['CryoSleep'].fillna(df.CryoSleep.mode()[0], inplace=True)\n",
    "    df['HomePlanet'].fillna(df.HomePlanet.mode()[0], inplace=True)\n",
    "    df['Destination'].fillna(df.Destination.mode()[0], inplace=True)\n",
    "    df['CabinDeck'].fillna(df.CabinDeck.mode()[0], inplace=True)\n",
    "    df['CabinSide'].fillna(df.CabinSide.mode()[0], inplace=True)"
   ]
  },
  {
   "cell_type": "code",
   "execution_count": 24,
   "id": "7d805847",
   "metadata": {},
   "outputs": [],
   "source": [
    "for df in combine:\n",
    "    df['RoomService'].fillna(df['RoomService'].median(), inplace=True)\n",
    "    df['FoodCourt'].fillna(df['FoodCourt'].median(), inplace=True)\n",
    "    df['ShoppingMall'].fillna(df['ShoppingMall'].median(), inplace=True)\n",
    "    df['Spa'].fillna(df['Spa'].median(), inplace=True)\n",
    "    df['VRDeck'].fillna(df['VRDeck'].median(), inplace=True)\n",
    "    df['Age'].fillna(df['Age'].median(), inplace=True)"
   ]
  },
  {
   "cell_type": "markdown",
   "id": "ccc4c6d5",
   "metadata": {},
   "source": [
    "For `Name` i will replace missing values by Unknown."
   ]
  },
  {
   "cell_type": "code",
   "execution_count": 25,
   "id": "1f4e4c8f",
   "metadata": {},
   "outputs": [],
   "source": [
    "for df in combine:\n",
    "    df['Name'].fillna('Unknown', inplace=True)"
   ]
  },
  {
   "cell_type": "code",
   "execution_count": 26,
   "id": "1412e83f",
   "metadata": {},
   "outputs": [
    {
     "name": "stdout",
     "output_type": "stream",
     "text": [
      "Missing values [count]: \n",
      "HomePlanet      0\n",
      "CryoSleep       0\n",
      "Destination     0\n",
      "Age             0\n",
      "VIP             0\n",
      "RoomService     0\n",
      "FoodCourt       0\n",
      "ShoppingMall    0\n",
      "Spa             0\n",
      "VRDeck          0\n",
      "Name            0\n",
      "Transported     0\n",
      "CabinDeck       0\n",
      "CabinSide       0\n",
      "IsAlone         0\n",
      "dtype: int64\n",
      "------------------------\n",
      "Missing values [count]: \n",
      "HomePlanet      0\n",
      "CryoSleep       0\n",
      "Destination     0\n",
      "Age             0\n",
      "VIP             0\n",
      "RoomService     0\n",
      "FoodCourt       0\n",
      "ShoppingMall    0\n",
      "Spa             0\n",
      "VRDeck          0\n",
      "Name            0\n",
      "CabinDeck       0\n",
      "CabinSide       0\n",
      "IsAlone         0\n",
      "dtype: int64\n"
     ]
    }
   ],
   "source": [
    "print(f'Missing values [count]: \\n{df_train.isna().sum()}')\n",
    "print('------------------------')\n",
    "print(f'Missing values [count]: \\n{df_test.isna().sum()}')"
   ]
  },
  {
   "cell_type": "markdown",
   "id": "c59a6f3d",
   "metadata": {},
   "source": [
    "## Feature engineering"
   ]
  },
  {
   "cell_type": "markdown",
   "id": "1884ae06",
   "metadata": {},
   "source": [
    "#### AgeBand\n",
    "\n",
    "`AgeBand` split `Age` into groups by rules found out in EDA."
   ]
  },
  {
   "cell_type": "code",
   "execution_count": 27,
   "id": "080a4903",
   "metadata": {},
   "outputs": [],
   "source": [
    "def get_age_band(x):\n",
    "    x = int(x)\n",
    "    if x == 6:\n",
    "        age_band = 0\n",
    "    elif (x > 0) & (x <= 18):\n",
    "        age_band = 1\n",
    "    elif (x > 18) & (x <= 40):\n",
    "        age_band = 2\n",
    "    else:\n",
    "        age_band = 3\n",
    "    return age_band"
   ]
  },
  {
   "cell_type": "code",
   "execution_count": 28,
   "id": "d782360c",
   "metadata": {},
   "outputs": [],
   "source": [
    "for df in combine:\n",
    "    df['AgeBand'] = df['Age'].apply(lambda x: get_age_band(x))"
   ]
  },
  {
   "cell_type": "markdown",
   "id": "baf67e76",
   "metadata": {},
   "source": [
    "#### Luxury service bands\n",
    "\n",
    "**Luxury service bands** split **luxury service** into groups by rules found out in EDA."
   ]
  },
  {
   "cell_type": "code",
   "execution_count": 29,
   "id": "85ce3eaa",
   "metadata": {},
   "outputs": [],
   "source": [
    "def get_service_band(x, col):\n",
    "    if x == 0:\n",
    "        band = 0\n",
    "    elif (x > 0) & (x <= 100):\n",
    "        band = 1\n",
    "    elif (x > 100) & (x <= 1000):\n",
    "        band = 2\n",
    "    else:\n",
    "        band = 3\n",
    "    return band"
   ]
  },
  {
   "cell_type": "code",
   "execution_count": 30,
   "id": "4515861e",
   "metadata": {},
   "outputs": [],
   "source": [
    "columns = ['RoomService', 'FoodCourt', 'ShoppingMall', 'Spa', 'VRDeck']\n",
    "for df in combine:\n",
    "    for col in columns:\n",
    "        col_name = col + 'Band'\n",
    "        df[col_name] = df[col].apply(lambda x: get_service_band(x, col))"
   ]
  },
  {
   "cell_type": "markdown",
   "id": "d6bf32fc",
   "metadata": {},
   "source": [
    "## Preparing data for modeling"
   ]
  },
  {
   "cell_type": "markdown",
   "id": "4cb99ad8",
   "metadata": {},
   "source": [
    "Drop useless featers."
   ]
  },
  {
   "cell_type": "code",
   "execution_count": 31,
   "id": "e3becfbe",
   "metadata": {},
   "outputs": [],
   "source": [
    "for df in combine:\n",
    "    df.drop(columns=['RoomService', 'FoodCourt', 'ShoppingMall', 'Spa', 'VRDeck', 'Name', 'Age'], axis=1, inplace=True)"
   ]
  },
  {
   "cell_type": "markdown",
   "id": "63763ecf",
   "metadata": {},
   "source": [
    "Binary variables convert to `0` or `1`."
   ]
  },
  {
   "cell_type": "code",
   "execution_count": 32,
   "id": "ed235fee",
   "metadata": {},
   "outputs": [],
   "source": [
    "for df in combine:\n",
    "    df['CryoSleep'] = df['CryoSleep'].astype(int)\n",
    "    df['VIP'] = df['VIP'].astype(int)\n",
    "    df['IsAlone'] = df['IsAlone'].astype(int)\n",
    "    df['CabinSide'] = np.where(df['CabinSide'] == 'P', 1, 0)"
   ]
  },
  {
   "cell_type": "markdown",
   "id": "7d69320b",
   "metadata": {},
   "source": [
    "#### Dummy encoding"
   ]
  },
  {
   "cell_type": "code",
   "execution_count": 33,
   "id": "e043dbdd",
   "metadata": {},
   "outputs": [],
   "source": [
    "def get_final_df(df):\n",
    "    df_dummy = pd.get_dummies(df[['HomePlanet', 'Destination', 'CabinDeck']], drop_first=True)\n",
    "    df_final = pd.concat([df, df_dummy], axis=1)\n",
    "    df_final.drop(columns=['HomePlanet', 'Destination', 'CabinDeck'], axis=1, inplace=True)\n",
    "    return df_final"
   ]
  },
  {
   "cell_type": "code",
   "execution_count": 34,
   "id": "8d3e6ef4",
   "metadata": {},
   "outputs": [],
   "source": [
    "df_train_final = get_final_df(df_train)\n",
    "df_test_final = get_final_df(df_test)"
   ]
  },
  {
   "cell_type": "code",
   "execution_count": 35,
   "id": "e628032d",
   "metadata": {
    "scrolled": false
   },
   "outputs": [
    {
     "data": {
      "text/plain": [
       "<AxesSubplot:>"
      ]
     },
     "execution_count": 35,
     "metadata": {},
     "output_type": "execute_result"
    },
    {
     "data": {
      "image/png": "[encoded data removed]",
      "text/plain": [
       "<Figure size 1000x500 with 1 Axes>"
      ]
     },
     "metadata": {
      "needs_background": "light"
     },
     "output_type": "display_data"
    }
   ],
   "source": [
    "plt.figure(figsize=(10,5),dpi=100)\n",
    "df_train_final.corr().Transported.abs().sort_values(ascending=True).iloc[:-1].plot.barh()"
   ]
  },
  {
   "cell_type": "markdown",
   "id": "845a3831",
   "metadata": {},
   "source": [
    "## Split data"
   ]
  },
  {
   "cell_type": "code",
   "execution_count": 36,
   "id": "8ed05ebc",
   "metadata": {},
   "outputs": [],
   "source": [
    "X_train = df_train_final.drop(columns=['Transported'])\n",
    "Y_train = df_train_final['Transported']\n",
    "X_test = df_test_final"
   ]
  },
  {
   "cell_type": "code",
   "execution_count": 37,
   "id": "a980bae1",
   "metadata": {},
   "outputs": [],
   "source": [
    "X = df_train_final.drop(columns=['Transported'])\n",
    "y = df_train_final['Transported']"
   ]
  },
  {
   "cell_type": "code",
   "execution_count": 38,
   "id": "27a66896",
   "metadata": {},
   "outputs": [],
   "source": [
    "from sklearn.model_selection import train_test_split\n",
    "X_train, X_val, y_train, y_val = train_test_split(X, y, test_size=0.2, random_state=42)"
   ]
  },
  {
   "cell_type": "code",
   "execution_count": 39,
   "id": "46a2c3cb",
   "metadata": {},
   "outputs": [
    {
     "name": "stdout",
     "output_type": "stream",
     "text": [
      "X_train shape: (6954, 21)\n",
      "Y_train shape: (8693,)\n",
      "X_test shape: (4277, 21)\n"
     ]
    }
   ],
   "source": [
    "print(f'X_train shape: {X_train.shape}')\n",
    "print(f'Y_train shape: {Y_train.shape}')\n",
    "print(f'X_test shape: {X_test.shape}')"
   ]
  },
  {
   "cell_type": "markdown",
   "id": "7d4010dd",
   "metadata": {},
   "source": [
    "## Training models"
   ]
  },
  {
   "cell_type": "code",
   "execution_count": 56,
   "id": "3e30ac4a",
   "metadata": {},
   "outputs": [],
   "source": [
    "def get_metrics(y_train, y_pred):\n",
    "    from sklearn.metrics import accuracy_score, precision_score, recall_score, f1_score\n",
    "\n",
    "    accuracy_test = accuracy_score(y_train, y_pred)\n",
    "    precision_test = precision_score(y_train, y_pred)\n",
    "    recall_test = recall_score(y_train, y_pred)\n",
    "    f1_test = f1_score(y_train, y_pred)\n",
    "\n",
    "    print(f'Accuracy: {accuracy_test}')\n",
    "    print(f'Precision: {precision_test}')\n",
    "    print(f'Recall: {recall_test}')\n",
    "    print(f'F1-Score: {f1_test}')"
   ]
  },
  {
   "cell_type": "markdown",
   "id": "be186de4",
   "metadata": {},
   "source": [
    "**LogisticRegression**"
   ]
  },
  {
   "cell_type": "code",
   "execution_count": 41,
   "id": "9e7136d9",
   "metadata": {},
   "outputs": [
    {
     "name": "stdout",
     "output_type": "stream",
     "text": [
      "Accuracy: 0.7740080506037953\n",
      "Precision: 0.7656078860898138\n",
      "Recall: 0.7961275626423691\n",
      "F1-Score: 0.7805695142378559\n"
     ]
    }
   ],
   "source": [
    "logreg = LogisticRegression()\n",
    "logreg.fit(X_train, y_train)\n",
    "y_pred = logreg.predict(X_val)\n",
    "get_metrics(y_val, y_pred)"
   ]
  },
  {
   "cell_type": "markdown",
   "id": "abf9c01a",
   "metadata": {},
   "source": [
    "**Support vector machine**"
   ]
  },
  {
   "cell_type": "code",
   "execution_count": 42,
   "id": "a74e7854",
   "metadata": {
    "scrolled": true
   },
   "outputs": [
    {
     "name": "stdout",
     "output_type": "stream",
     "text": [
      "Accuracy: 0.7901092581943646\n",
      "Precision: 0.7761033369214209\n",
      "Recall: 0.8211845102505695\n",
      "F1-Score: 0.7980077476480354\n"
     ]
    }
   ],
   "source": [
    "svm = SVC()\n",
    "svm.fit(X_train, y_train)\n",
    "y_pred = svm.predict(X_val)\n",
    "get_metrics(y_val, y_pred)"
   ]
  },
  {
   "cell_type": "markdown",
   "id": "e75b90b8",
   "metadata": {},
   "source": [
    "**K nearest neighbor**"
   ]
  },
  {
   "cell_type": "code",
   "execution_count": 43,
   "id": "77118e25",
   "metadata": {},
   "outputs": [
    {
     "name": "stdout",
     "output_type": "stream",
     "text": [
      "Accuracy: 0.7665324899367453\n",
      "Precision: 0.7731481481481481\n",
      "Recall: 0.7608200455580866\n",
      "F1-Score: 0.7669345579793341\n"
     ]
    }
   ],
   "source": [
    "knn = KNeighborsClassifier()\n",
    "knn.fit(X_train, y_train)\n",
    "y_pred = knn.predict(X_val)\n",
    "get_metrics(y_val, y_pred)"
   ]
  },
  {
   "cell_type": "markdown",
   "id": "878a7ec0",
   "metadata": {},
   "source": [
    "**Random Forest**"
   ]
  },
  {
   "cell_type": "code",
   "execution_count": 44,
   "id": "8ce937b0",
   "metadata": {},
   "outputs": [
    {
     "name": "stdout",
     "output_type": "stream",
     "text": [
      "Accuracy: 0.7705577918343876\n",
      "Precision: 0.7694038245219348\n",
      "Recall: 0.7790432801822323\n",
      "F1-Score: 0.7741935483870969\n"
     ]
    }
   ],
   "source": [
    "random_forest = RandomForestClassifier()\n",
    "random_forest.fit(X_train, y_train)\n",
    "y_pred = random_forest.predict(X_val)\n",
    "get_metrics(y_val, y_pred)"
   ]
  },
  {
   "cell_type": "markdown",
   "id": "7823c2d1",
   "metadata": {},
   "source": [
    "**Naive Bayes**"
   ]
  },
  {
   "cell_type": "code",
   "execution_count": 45,
   "id": "51ee6f4c",
   "metadata": {},
   "outputs": [
    {
     "name": "stdout",
     "output_type": "stream",
     "text": [
      "Accuracy: 0.7636572742955722\n",
      "Precision: 0.7711962833914053\n",
      "Recall: 0.7562642369020501\n",
      "F1-Score: 0.7636572742955722\n"
     ]
    }
   ],
   "source": [
    "gaussian = GaussianNB()\n",
    "gaussian.fit(X_train, y_train)\n",
    "y_pred = gaussian.predict(X_val)\n",
    "get_metrics(y_val, y_pred)"
   ]
  },
  {
   "cell_type": "markdown",
   "id": "e8e28845",
   "metadata": {},
   "source": [
    "**Finall model to predict test data from Kaggle**"
   ]
  },
  {
   "cell_type": "code",
   "execution_count": 53,
   "id": "4bfa99dc",
   "metadata": {},
   "outputs": [
    {
     "name": "stdout",
     "output_type": "stream",
     "text": [
      "Best CV params {'C': 100, 'gamma': 0.01}\n",
      "Best CV accuracy 0.7930528966887707\n"
     ]
    }
   ],
   "source": [
    "svm = SVC(kernel=\"rbf\")\n",
    "\n",
    "parameters = {'C': [0.1, 1, 10, 100],\n",
    "              'gamma': [1, 0.1, 0.01, 0.001]}\n",
    "CV_svm = GridSearchCV(svm, param_grid=parameters, cv=5,scoring=\"accuracy\")\n",
    "CV_svm.fit(pd.concat([X_train,X_val]), pd.concat([y_train,y_val]))\n",
    "\n",
    "print(\"Best CV params\", CV_svm.best_params_)\n",
    "print(\"Best CV accuracy\", CV_svm.best_score_)"
   ]
  },
  {
   "cell_type": "code",
   "execution_count": 54,
   "id": "7dfb4ccf",
   "metadata": {},
   "outputs": [],
   "source": [
    "submission['Transported'] = CV_svm.predict(X_test)"
   ]
  },
  {
   "cell_type": "code",
   "execution_count": 55,
   "id": "0b345719",
   "metadata": {},
   "outputs": [],
   "source": [
    "submission.to_csv('submission.csv', index = False)"
   ]
  },
  {
   "cell_type": "markdown",
   "id": "9248301e",
   "metadata": {},
   "source": [
    "Model accuracy on Kaggle's test dataset = 0.79284"
   ]
  }
 ],
 "metadata": {
  "kernelspec": {
   "display_name": "Python 3 (ipykernel)",
   "language": "python",
   "name": "python3"
  },
  "language_info": {
   "codemirror_mode": {
    "name": "ipython",
    "version": 3
   },
   "file_extension": ".py",
   "mimetype": "text/x-python",
   "name": "python",
   "nbconvert_exporter": "python",
   "pygments_lexer": "ipython3",
   "version": "3.10.4"
  }
 },
 "nbformat": 4,
 "nbformat_minor": 5
}
